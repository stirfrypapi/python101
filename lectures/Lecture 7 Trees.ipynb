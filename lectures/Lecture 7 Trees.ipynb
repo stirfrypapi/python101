{
 "cells": [
  {
   "cell_type": "code",
   "execution_count": 1,
   "metadata": {},
   "outputs": [],
   "source": [
    "class Node:\n",
    "    def __init__(self, value):\n",
    "        self.val = value\n",
    "        self.children = []"
   ]
  },
  {
   "cell_type": "code",
   "execution_count": 3,
   "metadata": {},
   "outputs": [],
   "source": [
    "\"\"\"\n",
    "\n",
    "1\n",
    "|\\\n",
    "2 3\n",
    "| |\\\n",
    "4 6 7\n",
    "\n",
    "\n",
    "\n",
    "\n",
    "\"\"\"\n",
    "\n",
    "n1 = Node(1)\n",
    "\n",
    "n2 = Node(2)\n",
    "\n",
    "n3 = Node(3)\n",
    "\n",
    "n4 = Node(4)\n",
    "\n",
    "n6 = Node(6)\n",
    "\n",
    "n7 = Node(7)\n",
    "\n",
    "n1.children = [n2, n3]\n",
    "\n",
    "n2.children = [n4]\n",
    "\n",
    "n3.children = [n6, n7]\n"
   ]
  },
  {
   "cell_type": "code",
   "execution_count": null,
   "metadata": {},
   "outputs": [],
   "source": [
    "\"\"\"\n",
    "Binary Search Tree\n",
    "- each node can have at most two children\n",
    "- each node's left child is less than the current node's value\n",
    "- each node's right child is greater than the current node's value\n",
    "\n",
    "1\n",
    "| \\\n",
    "-1 5\n",
    "| \\\n",
    "-5 0\n",
    "\n",
    "\n",
    "O(logn) to look for an element\n",
    "\n",
    "\"\"\"\n",
    "\n"
   ]
  }
 ],
 "metadata": {
  "kernelspec": {
   "display_name": "Python 3",
   "language": "python",
   "name": "python3"
  },
  "language_info": {
   "codemirror_mode": {
    "name": "ipython",
    "version": 3
   },
   "file_extension": ".py",
   "mimetype": "text/x-python",
   "name": "python",
   "nbconvert_exporter": "python",
   "pygments_lexer": "ipython3",
   "version": "3.7.7"
  }
 },
 "nbformat": 4,
 "nbformat_minor": 2
}
