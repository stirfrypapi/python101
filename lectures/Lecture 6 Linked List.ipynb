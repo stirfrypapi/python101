{
 "cells": [
  {
   "cell_type": "code",
   "execution_count": 1,
   "metadata": {},
   "outputs": [],
   "source": [
    "class Node:\n",
    "    def __init__(self, value):\n",
    "        self.val = value\n",
    "        self.next = None"
   ]
  },
  {
   "cell_type": "code",
   "execution_count": 2,
   "metadata": {},
   "outputs": [],
   "source": [
    "n1 = Node(1)"
   ]
  },
  {
   "cell_type": "code",
   "execution_count": 8,
   "metadata": {},
   "outputs": [
    {
     "name": "stdout",
     "output_type": "stream",
     "text": [
      "<__main__.Node object at 0x10b3f6810>\n",
      "1\n"
     ]
    }
   ],
   "source": [
    "print(n1)\n",
    "print(n1.val)"
   ]
  },
  {
   "cell_type": "code",
   "execution_count": 9,
   "metadata": {},
   "outputs": [
    {
     "name": "stdout",
     "output_type": "stream",
     "text": [
      "<__main__.Node object at 0x10b3cd0d0>\n",
      "2\n"
     ]
    }
   ],
   "source": [
    "n2 = Node(2)\n",
    "n1.next = n2 # link the two nodes\n",
    "\n",
    "print(n2)\n",
    "print(n2.val)"
   ]
  },
  {
   "cell_type": "code",
   "execution_count": 10,
   "metadata": {},
   "outputs": [
    {
     "name": "stdout",
     "output_type": "stream",
     "text": [
      "<__main__.Node object at 0x10b3cd0d0>\n"
     ]
    }
   ],
   "source": [
    "\"\"\"\n",
    "\n",
    "n1 -> n2 -> None\n",
    "\n",
    "\"\"\"\n",
    "\n",
    "print(n1.next)"
   ]
  },
  {
   "cell_type": "code",
   "execution_count": 13,
   "metadata": {},
   "outputs": [
    {
     "name": "stdout",
     "output_type": "stream",
     "text": [
      "3\n"
     ]
    }
   ],
   "source": [
    "n3 = Node(3)\n",
    "n2.next = n3\n",
    "\n",
    "\"\"\"\n",
    "\n",
    "the first node in a linked list is called the head. other people can access other nodes in the linked list\n",
    "by using .next.\n",
    "\n",
    "n1 -> n2 -> n3 -> None\n",
    "\n",
    "\"\"\"\n",
    "\n",
    "print(n2.next.val)"
   ]
  },
  {
   "cell_type": "markdown",
   "metadata": {},
   "source": [
    "Similar to a list, but lists are stored in contiguous in memory whereas linked list are not."
   ]
  },
  {
   "cell_type": "code",
   "execution_count": 14,
   "metadata": {},
   "outputs": [
    {
     "data": {
      "text/plain": [
       "2"
      ]
     },
     "execution_count": 14,
     "metadata": {},
     "output_type": "execute_result"
    }
   ],
   "source": [
    "arr = [1,2,3]\n",
    "arr[1]"
   ]
  },
  {
   "cell_type": "markdown",
   "metadata": {},
   "source": [
    "Unlike lists, you cannot index into a linked list (use [])."
   ]
  },
  {
   "cell_type": "code",
   "execution_count": 15,
   "metadata": {},
   "outputs": [
    {
     "name": "stdout",
     "output_type": "stream",
     "text": [
      "1\n",
      "2\n",
      "3\n"
     ]
    }
   ],
   "source": [
    "def print_linked_list(head):\n",
    "    while head:\n",
    "        print(head.val)\n",
    "        head = head.next\n",
    "        \n",
    "print_linked_list(n1)"
   ]
  },
  {
   "cell_type": "markdown",
   "metadata": {},
   "source": [
    "# Complexity Analysis\n"
   ]
  },
  {
   "cell_type": "code",
   "execution_count": 16,
   "metadata": {},
   "outputs": [
    {
     "name": "stdout",
     "output_type": "stream",
     "text": [
      "1\n",
      "2\n",
      "3\n",
      "1\n",
      "2\n",
      "3\n",
      "4\n",
      "5\n",
      "6\n",
      "7\n",
      "8\n",
      "9\n"
     ]
    }
   ],
   "source": [
    "arr = [1,2,3]\n",
    "\n",
    "twod_arr = [[1,2,3], [4,5,6], [7,8,9]]\n",
    "\n",
    "for num in arr:\n",
    "    print(num) # O(n)\n",
    "    \n",
    "for sub_arr in twod_arr:\n",
    "    for num in sub_arr:\n",
    "        print(num) # O(nm)"
   ]
  },
  {
   "cell_type": "code",
   "execution_count": 19,
   "metadata": {},
   "outputs": [
    {
     "data": {
      "text/plain": [
       "1"
      ]
     },
     "execution_count": 19,
     "metadata": {},
     "output_type": "execute_result"
    }
   ],
   "source": [
    "arr[2]\n",
    "\n",
    "twod_arr[0][0] # O(1)"
   ]
  },
  {
   "cell_type": "code",
   "execution_count": null,
   "metadata": {},
   "outputs": [],
   "source": [
    "# What if I want the nth element in a linked list?\n",
    "\n",
    "# O(n) \n",
    "\n",
    "# insert a 4 between 2 and 3 in [1,2,3]\n",
    "# [1,2,4,3] O(n)\n",
    "\n",
    "# inserting a 4 between 2 and 3 in 1->2->3\n",
    "# 1->2->4->3 O(1)"
   ]
  }
 ],
 "metadata": {
  "kernelspec": {
   "display_name": "Python 3",
   "language": "python",
   "name": "python3"
  },
  "language_info": {
   "codemirror_mode": {
    "name": "ipython",
    "version": 3
   },
   "file_extension": ".py",
   "mimetype": "text/x-python",
   "name": "python",
   "nbconvert_exporter": "python",
   "pygments_lexer": "ipython3",
   "version": "3.7.7"
  }
 },
 "nbformat": 4,
 "nbformat_minor": 2
}
