{
 "cells": [
  {
   "cell_type": "markdown",
   "metadata": {},
   "source": [
    "# Setting Up Python3.7, Anaconda, Jupyter, PyCharm"
   ]
  },
  {
   "cell_type": "markdown",
   "metadata": {},
   "source": [
    "## Downloading Everything\n",
    "\n",
    "Before we do anything in Python, we need to download a Python **interpreter**. \n",
    "\n",
    "### What is a Python interpreter?\n",
    "- Similar to a compiler in C++\n",
    "- In C++, we had to **compile** our code before we can **run** it\n",
    "- In Python, it is **interpreted**\n",
    "    - Compiled and ran line by line \n",
    "    - If I have a syntax error on line 15, lines 1-14 will be executed before stopping at line 15 with an error.\n",
    "    - In C++, you will run into an error when you try to compile.\n",
    "    \n",
    "### Where can I get a Python **interpreter**?\n",
    "**ANACONDA!**\n",
    "- Anaconda comes with a bunch of other tools (not only Python) that we will be using.\n",
    "- Download Python3.7 here: https://www.anaconda.com/products/individual\n",
    "- To check if you have Anaconda already installed,\n",
    "    - MAC (terminal): `conda -V`\n",
    "    - WINDOWS (Anaconda Powershell): `conda list anaconda$` \n",
    "\n",
    "### Where do I write Python code in?\n",
    "- Anaconda comes with a powerful IDE called **PyCharm**\n",
    "- After downloading Anaconda you can download **PyCharm** through the **Anaconda Navigator**.\n",
    "- If you're having trouble, you can also download **PyCharm** through its own website:\n",
    "    - https://www.jetbrains.com/pycharm/download/#section=mac\n",
    "    - Make sure you download the community version (free) and NOT the professional one!\n",
    "    \n",
    "### What is this file I'm writing in?\n",
    "- **Jupyter Notebooks!**\n",
    "- Anaconda comes with this program called Jupyter. \n",
    "    - able to run Python code\n",
    "    - able to switch to markdown cells\n",
    "    - good tool for teaching and playing around with code\n",
    "    - it's what the name is: a notebook\n",
    "- **PyCharm** is more for debugging and writing complicated projects.\n",
    "- For the sake of teaching, **Jupyter Notebooks** is the way to go."
   ]
  },
  {
   "cell_type": "markdown",
   "metadata": {},
   "source": [
    "## Cool! Now What?\n",
    "\n",
    "Time to get organized.\n",
    "\n",
    "We're going to make a folder for this class so let's navigate somewhere I want to create a folder in. Personally, I like to create class folders on my Desktop but you can do you and do it in Downloads or Documents. If you're on Windows, I'll try my best to make this tutorial followable but just let me know if anything isn't working. \n",
    "\n",
    "Open up your terminal (MAC) or Anaconda Powershell Prompt (Windows).\n",
    "\n",
    "Use `pwd` to print working directory. In MAC, it should be `Users/Raymond` (obviously your computer won't be Raymond but your user account). \n",
    "\n",
    "Use `ls` to list directory contents. There will be a list of folders and files in the folder `Users/Raymond/`. Some folders I have are Downloads, Documents, and Desktop (among others). \n",
    "\n",
    "<img src=\"../pictures/terminal_pwd_ls.png\" width=\"500\">\n",
    "\n",
    "Use `cd Desktop` to change directories and navigate into Desktop. If you want to cd into a different folder, replace Desktop with your folder name. Tip: Use tab to autocomplete your folder name.\n",
    "\n",
    "<img src=\"../pictures/terminal_cd.png\" width=\"500\">\n",
    "\n",
    "Cool! So now, let's make a folder called python101 where we will have all the"
   ]
  },
  {
   "cell_type": "markdown",
   "metadata": {},
   "source": [
    "\n",
    "\n"
   ]
  },
  {
   "cell_type": "code",
   "execution_count": null,
   "metadata": {},
   "outputs": [],
   "source": []
  }
 ],
 "metadata": {
  "kernelspec": {
   "display_name": "Python 3",
   "language": "python",
   "name": "python3"
  },
  "language_info": {
   "codemirror_mode": {
    "name": "ipython",
    "version": 3
   },
   "file_extension": ".py",
   "mimetype": "text/x-python",
   "name": "python",
   "nbconvert_exporter": "python",
   "pygments_lexer": "ipython3",
   "version": "3.7.4"
  }
 },
 "nbformat": 4,
 "nbformat_minor": 2
}
